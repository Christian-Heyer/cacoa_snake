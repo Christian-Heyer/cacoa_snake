{
 "cells": [
  {
   "cell_type": "code",
   "execution_count": null,
   "id": "80ca65c1-8c3a-42d3-8fe5-d7ada4a9ee72",
   "metadata": {},
   "outputs": [],
   "source": []
  },
  {
   "cell_type": "markdown",
   "id": "7499915f-f49d-4cb7-84d0-fe60265bac0d",
   "metadata": {},
   "source": [
    "## Adata single test code"
   ]
  },
  {
   "cell_type": "markdown",
   "id": "1bb1b6f9-f689-401f-86e1-75492d6be1c4",
   "metadata": {},
   "source": [
    "In this part we show the analysis we ran on each single group to have look at the expression in each sample to identfiy the cell subgroups. \n",
    "\n",
    "Not to relevant. "
   ]
  },
  {
   "cell_type": "code",
   "execution_count": null,
   "id": "985c973a-f9d9-4a89-bec1-375e94fa11ef",
   "metadata": {},
   "outputs": [],
   "source": [
    "adata_basal = sc.read_h5ad(\"/omics/odcf/analysis/OE0228_projects/VascularAging/rna_sequencing/public_scrnaseq/lung_lps/basal/anndata/adata_norm_processed.h5ad\")"
   ]
  },
  {
   "cell_type": "code",
   "execution_count": null,
   "id": "ffa96b49-7d01-42c9-af27-53d84561ac77",
   "metadata": {},
   "outputs": [],
   "source": [
    "f_paths=[f\"/omics/odcf/analysis/OE0228_projects/VascularAging/rna_sequencing/public_scrnaseq/lung_lps/{s_name}/anndata/adata_norm_processed.h5ad\"for s_name in sample_names]\n",
    "\n"
   ]
  },
  {
   "cell_type": "code",
   "execution_count": null,
   "id": "1d3ba4f1-c30d-455d-821a-0daf7f886d4e",
   "metadata": {},
   "outputs": [],
   "source": [
    "adata_dict = dict(zip(sample_names, adata))"
   ]
  },
  {
   "cell_type": "code",
   "execution_count": null,
   "id": "03820ee8-7c68-4eca-bf28-291979c75be1",
   "metadata": {},
   "outputs": [],
   "source": [
    "samp_name = \"Day2\"\n",
    "check_pro_ecs = False\n",
    "\n",
    "adata_obj = adata_dict[samp_name]\n",
    "adata_obj.obs[\"Clusters\"] = labels[samp_name][\"Clusters\"]\n",
    "adata_obj.obs[\"Clusters\"][adata_obj.obs[\"Clusters\"].isnull()] = 99\n",
    "adata_obj.obs[\"Clusters\"] = adata_obj.obs[\"Clusters\"].astype(\"category\")\n",
    "#sc.pp.neighbors(adata_obj,10)\n",
    "#sc.tl.umap(adata_obj)\n",
    "sc.pl.umap(\n",
    "    adata_obj,\n",
    "    color=\"Clusters\",  \n",
    ")"
   ]
  },
  {
   "cell_type": "code",
   "execution_count": null,
   "id": "874c5f9d-172c-4d1e-87d9-032d5441ee12",
   "metadata": {},
   "outputs": [],
   "source": [
    "adata_obj.obs[\"Clusters\"]"
   ]
  },
  {
   "cell_type": "code",
   "execution_count": null,
   "id": "76171811-b6c7-411c-a8d9-1d5a2a150b66",
   "metadata": {},
   "outputs": [],
   "source": [
    "marker_genes = {\"immuneEC\": [\"Cd74\", \"H2-Aa\", \"H2-Ab1\", \"Irf7\", \"Icam1\", \"Il4ra\"], \n",
    "                \"devEC\": [\"Junb\", \"Egr1\", \"Sox17\", \"Kdr\", \"Ace\"], \n",
    "                \"Aerocyte\": [\"Car4\", \"Ednrb\", \"Emp2\", \"Itgb5\"],\n",
    "             }\n",
    "\n",
    "if check_pro_ecs:\n",
    "      marker_genes[\"proEC\"] = [\"Cdk1\", \"Tk1\", \"E2f1\", \"Ccna2\", \"Ccne1\"]\n",
    "\n",
    "adata_obj.layers[\"counts\"] = adata_obj.X\n",
    "adata_obj.X = adata_obj.layers[\"scran_normalization\"]\n",
    "adata_obj.var[\"highly_variable\"] = adata_obj.var[\"highly_deviant\"]\n",
    "sc.tl.pca(adata_obj, n_comps=50, use_highly_variable=True)\n",
    "sc.pp.neighbors(adata_obj)\n",
    "sc.tl.umap(adata_obj)"
   ]
  },
  {
   "cell_type": "code",
   "execution_count": null,
   "id": "e4053a32-d81b-4897-8170-74fb4982b19c",
   "metadata": {},
   "outputs": [],
   "source": [
    "sc.pl.umap(adata_obj,color = \"Clusters\")\n",
    "for ct in marker_genes.keys():\n",
    "    print(f\"{ct.upper()}:\")  # print cell subtype name\n",
    "    sc.pl.umap(\n",
    "        adata_obj,\n",
    "        color=marker_genes[ct],\n",
    "        vmin=0,\n",
    "        vmax=\"p99\",  # set vmax to the 99th percentile of the gene count instead of the maximum, to prevent outliers from making expression in other cells invisible. Note that this can cause problems for extremely lowly expressed genes.\n",
    "        sort_order=False,  # do not plot highest expression on top, to not get a biased view of the mean expression among cells\n",
    "        frameon=False,\n",
    "        cmap=\"Reds\",  # or choose another color map e.g. from here: https://matplotlib.org/stable/tutorials/colors/colormaps.html\n",
    "    )\n",
    "    print(\"\\n\\n\\n\")\n",
    "\n",
    "\n",
    "    \n",
    "sc.pl.umap(\n",
    "        adata_obj,\n",
    "        color=[\"Aplnr\", \"Apln\"],\n",
    "        vmin=0,\n",
    "        vmax=\"p99\",  # set vmax to the 99th percentile of the gene count instead of the maximum, to prevent outliers from making expression in other cells invisible. Note that this can cause problems for extremely lowly expressed genes.\n",
    "        sort_order=False,  # do not plot highest expression on top, to not get a biased view of the mean expression among cells\n",
    "        frameon=False,\n",
    "        cmap=\"Reds\",  # or choose another color map e.g. from here: https://matplotlib.org/stable/tutorials/colors/colormaps.html\n",
    "    )   "
   ]
  },
  {
   "cell_type": "markdown",
   "id": "30dc1f21-03ea-471f-8ffc-b2e89a1464e0",
   "metadata": {},
   "source": [
    "The figure above shows the expression of Marker genes for AEROCYTES IMMUNEC AND DEVEC groups. \n",
    "Aplnr and Apln are also added. \n",
    "\n"
   ]
  },
  {
   "cell_type": "code",
   "execution_count": null,
   "id": "d5d30659-02aa-4423-866c-2edbadc6a805",
   "metadata": {},
   "outputs": [],
   "source": [
    "#sc.tl.louvain(adata_obj,resolution=0.4,)\n",
    "sc.tl.leiden(adata_obj,resolution=0.4, key_added=\"leiden_res0_4\")\n",
    "sc.pl.umap(\n",
    "    adata_obj,\n",
    "    color=[\"leiden_res0_25\", \"leiden_res0_5\",\"leiden_res0_4\", \"leiden_res1\"], ncols = 2\n",
    ")"
   ]
  },
  {
   "cell_type": "markdown",
   "id": "c4f8fb59-8f6e-40fa-96ff-9ef1cd8fe3ac",
   "metadata": {},
   "source": [
    "Test of various clustering settings -> However we used clustering provided by the authors\n"
   ]
  },
  {
   "cell_type": "code",
   "execution_count": null,
   "id": "add7ee40-3ff1-44e5-a8c6-6ced76f811a9",
   "metadata": {},
   "outputs": [],
   "source": [
    "sc.tl.rank_genes_groups(\n",
    "    adata_obj, groupby=\"Clusters\", method=\"wilcoxon\", key_added = \"dea_clusters\"\n",
    ")"
   ]
  },
  {
   "cell_type": "code",
   "execution_count": null,
   "id": "9bda2488-7572-4a3a-8aeb-adae1b6ece6f",
   "metadata": {},
   "outputs": [],
   "source": [
    "sc.pl.umap(\n",
    "    adata_obj,\n",
    "    color=[\"Aplnr\"], ncols = 2\n",
    ")"
   ]
  },
  {
   "cell_type": "code",
   "execution_count": null,
   "id": "93e8775c-dd44-4139-ae65-1f188a9d3332",
   "metadata": {},
   "outputs": [],
   "source": [
    " adata_obj.obs[\"Clusters\"] == \"5\"\n",
    "    "
   ]
  },
  {
   "cell_type": "code",
   "execution_count": null,
   "id": "df872191-bd4d-48e1-b3b7-681f02a714e4",
   "metadata": {},
   "outputs": [],
   "source": []
  },
  {
   "cell_type": "code",
   "execution_count": null,
   "id": "20cf6716-e9da-4dd8-8539-70beb5aa052e",
   "metadata": {},
   "outputs": [],
   "source": []
  },
  {
   "cell_type": "code",
   "execution_count": null,
   "id": "9301cbda-1f22-49c8-bfaa-4a028eca8b58",
   "metadata": {},
   "outputs": [],
   "source": [
    "sc.pl.rank_genes_groups_dotplot(\n",
    "    adata_obj, groupby=\"Clusters\", standard_scale=\"var\", n_genes=5, key=\"dea_clusters\", dendrogram = False)\n"
   ]
  },
  {
   "cell_type": "markdown",
   "id": "0a72ed04-28bf-4e29-851c-0cd38bee9cb6",
   "metadata": {},
   "source": [
    "Top Differentially expressed genes for the cluster groups + the three subgroup. \n",
    "Group 99 are cells not present in the clustering provided. "
   ]
  },
  {
   "cell_type": "code",
   "execution_count": null,
   "id": "9ed374be-423b-49c3-81b2-d8af97b3e556",
   "metadata": {},
   "outputs": [],
   "source": [
    "sc.tl.filter_rank_genes_groups(\n",
    "    adata_obj,\n",
    "    min_in_group_fraction=0.2,\n",
    "    max_out_group_fraction=0.2,\n",
    "    key=\"dea_clusters\",\n",
    "    key_added=\"dea_clusters_filtered\",\n",
    ")\n"
   ]
  },
  {
   "cell_type": "code",
   "execution_count": null,
   "id": "49eaa347-d3cb-4242-be4a-7a017555b0e7",
   "metadata": {},
   "outputs": [],
   "source": [
    "sc.pl.rank_genes_groups_dotplot(\n",
    "    adata_obj,\n",
    "    groups = ['Aerocyte', 'devEC', 'immunec'],\n",
    "    groupby=\"Clusters\",\n",
    "    standard_scale=\"var\",\n",
    "    n_genes=15,\n",
    "    key=\"dea_clusters_filtered\",\n",
    "    dendrogram = False\n",
    ")\n"
   ]
  },
  {
   "cell_type": "markdown",
   "id": "b428fa16-8007-4af9-a581-f59597bdedc7",
   "metadata": {},
   "source": [
    "After filtering celar marker genes barely present, since they are not really unique. "
   ]
  },
  {
   "cell_type": "code",
   "execution_count": null,
   "id": "0fa11315-6764-4452-99b1-e41bf30e2944",
   "metadata": {},
   "outputs": [],
   "source": [
    "marker_genes = {\"immuneEC\": [\"Cd74\", \"H2-Aa\", \"H2-Ab1\"], \"devEC\": [\"Junb\", \"Egr1\", \"Sox17\"], \"Aerocyte\": [\"Car4\", \"Ednrb\", \"Emp2\", \"Itgb5\"]}\n",
    "\n",
    "adata_basal.layers[\"counts\"] = adata_basal.X\n",
    "adata_basal.X = adata_basal.layers[\"scran_normalization\"]\n",
    "adata_basal.var[\"highly_variable\"] = adata_basal.var[\"highly_deviant\"]\n",
    "sc.tl.pca(adata_basal, n_comps=50, use_highly_variable=True)\n",
    "sc.pp.neighbors(adata_basal)\n",
    "sc.tl.umap(adata_basal)"
   ]
  },
  {
   "cell_type": "code",
   "execution_count": null,
   "id": "0e80b77e-58f2-4dab-ae93-3c705eb0679a",
   "metadata": {},
   "outputs": [],
   "source": [
    "for ct in marker_genes.keys():\n",
    "    print(f\"{ct.upper()}:\")  # print cell subtype name\n",
    "    sc.pl.umap(\n",
    "        adata_basal,\n",
    "        color=marker_genes[ct],\n",
    "        vmin=0,\n",
    "        vmax=\"p99\",  # set vmax to the 99th percentile of the gene count instead of the maximum, to prevent outliers from making expression in other cells invisible. Note that this can cause problems for extremely lowly expressed genes.\n",
    "        sort_order=False,  # do not plot highest expression on top, to not get a biased view of the mean expression among cells\n",
    "        frameon=False,\n",
    "        cmap=\"Reds\",  # or choose another color map e.g. from here: https://matplotlib.org/stable/tutorials/colors/colormaps.html\n",
    "    )\n",
    "    print(\"\\n\\n\\n\")"
   ]
  },
  {
   "cell_type": "code",
   "execution_count": null,
   "id": "919653b1-25d3-4043-bd0d-a4767e554e5d",
   "metadata": {},
   "outputs": [],
   "source": [
    "dc.run_ora(\n",
    "    mat=adata_obj,\n",
    "    net=pd.concat([hallmarks, full_sen]),\n",
    "    source='geneset',\n",
    "    target='genesymbol',\n",
    "    verbose=True,\n",
    "    use_raw=False\n",
    ")\n",
    "\n"
   ]
  },
  {
   "cell_type": "code",
   "execution_count": null,
   "id": "0caa2430-b6ff-4edf-8e15-f7e28e04bfce",
   "metadata": {},
   "outputs": [],
   "source": [
    "acts = dc.get_acts(adata_obj, obsm_key='ora_estimate')\n",
    "\n",
    "# We need to remove inf and set them to the maximum value observed\n",
    "acts_v = acts.X.ravel()\n",
    "max_e = np.nanmax(acts_v[np.isfinite(acts_v)])\n",
    "acts.X[~np.isfinite(acts.X)] = max_e\n",
    "\n",
    "# We can scale the obtained activities for better visualizations\n",
    "sc.pp.scale(acts)\n",
    "acts\n",
    "\n"
   ]
  },
  {
   "cell_type": "code",
   "execution_count": null,
   "id": "0c3af11b-2632-403c-9e52-3178d0c4ff45",
   "metadata": {},
   "outputs": [],
   "source": [
    "sc.pl.umap(acts, color=['HALLMARK_DNA_REPAIR', 'HALLMARK_INTERFERON_ALPHA_RESPONSE', \n",
    "                        'FRIDMAN_SENESCENCE_DN', 'FRIDMAN_SENESCENCE_UP', 'ec_Senescence_sig'], cmap='RdBu_r', vcenter=0)\n",
    "sc.pl.violin(acts, keys=['HALLMARK_DNA_REPAIR', 'HALLMARK_INTERFERON_ALPHA_RESPONSE', \n",
    "                        'FRIDMAN_SENESCENCE_DN', 'FRIDMAN_SENESCENCE_UP', 'ec_Senescence_sig'], groupby='leiden_res0_25', rotation=90)\n",
    "\n"
   ]
  },
  {
   "cell_type": "code",
   "execution_count": null,
   "id": "947b5663-dc57-447c-927d-33d7b78eda87",
   "metadata": {},
   "outputs": [],
   "source": [
    "adata"
   ]
  }
 ],
 "metadata": {
  "kernelspec": {
   "display_name": "Python [conda env:conda-lunglps]",
   "language": "python",
   "name": "conda-env-conda-lunglps-py"
  },
  "language_info": {
   "codemirror_mode": {
    "name": "ipython",
    "version": 3
   },
   "file_extension": ".py",
   "mimetype": "text/x-python",
   "name": "python",
   "nbconvert_exporter": "python",
   "pygments_lexer": "ipython3",
   "version": "3.11.6"
  }
 },
 "nbformat": 4,
 "nbformat_minor": 5
}
