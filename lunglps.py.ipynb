{
 "cells": [
  {
   "cell_type": "markdown",
   "id": "fc664a8a-75b4-4aaf-bd33-67f598896e30",
   "metadata": {},
   "source": [
    "# Analysis of Lung LPS and tabula Senis data\n",
    "\n",
    "In this Notebook the single cell RNAseq data from Zhang, L. et al. Single-cell transcriptomic profiling of lung endothelial cells identifies dynamic inflammatory and regenerative subpopulations. JCI Insight 7, (2022) is primarily analyzed.\n",
    "\n",
    "The Motivation was to see how Aplnr expression reacts the the inflammation stimulus given and if senescence processes are initated in the endothelial cells. \n",
    "\n"
   ]
  },
  {
   "cell_type": "code",
   "execution_count": 1,
   "id": "15987595-efbd-4158-bba9-341274e7d3ce",
   "metadata": {},
   "outputs": [],
   "source": [
    "import scanpy as sc\n",
    "import yaml\n",
    "import os\n",
    "import pandas as pd\n",
    "import numpy as np\n",
    "import decoupler as dc\n",
    "import seaborn as sns\n",
    "\n",
    "\n",
    "os.environ['HTTP_PROXY']=\"http://www-int.dkfz-heidelberg.de:80\"\n",
    "os.environ['HTTPS_PROXY']=\"http://www-int.dkfz-heidelberg.de:80\""
   ]
  },
  {
   "cell_type": "code",
   "execution_count": 2,
   "id": "768451a8-2db4-442a-b72c-889ce04bfe41",
   "metadata": {},
   "outputs": [
    {
     "name": "stdout",
     "output_type": "stream",
     "text": [
      "/bin/python\n"
     ]
    }
   ],
   "source": [
    "!which python"
   ]
  },
  {
   "cell_type": "code",
   "execution_count": 3,
   "id": "2a2261a6-6e4d-4569-acbb-d4170d2ff0b7",
   "metadata": {},
   "outputs": [],
   "source": [
    "if \"snakemake\" not in globals():\n",
    "    with open(\"configs/lung_lps.yaml\", \"r\") as stream:\n",
    "        try:\n",
    "            config=yaml.safe_load(stream)\n",
    "        except yaml.YAMLError as exc:\n",
    "            print(exc)"
   ]
  },
  {
   "cell_type": "code",
   "execution_count": null,
   "id": "b137a32f-f346-49fa-bbbb-adc208024712",
   "metadata": {},
   "outputs": [],
   "source": [
    "if \"snakemake\" in globals():\n",
    "    paths = snakemake.input[\"adata_paths\"]\n",
    "else:\n",
    "    paths = [os.path.join(config[\"BASE_FP\"], config[\"DATASET\"], sample, \"anndata\", \"adata_norm_processed.h5ad\") for sample in config[\"samples\"].keys()]\n",
    "\n",
    "adata = list(map(sc.read_h5ad, paths))\n"
   ]
  },
  {
   "cell_type": "markdown",
   "id": "5324f92c-6d3b-46ca-adb3-34aa07b7671e",
   "metadata": {},
   "source": [
    "## Full Dataset\n",
    "\n",
    "We satrt off by analyzing these data by loading an adata object of all cells and adding the cluster annotaions by the authors (provided upon request)\n",
    "\n",
    "Then we add the \"immunec\" and devEC populations based on the marker genes described in the paper above to assign the clusters to the cell tyes described.\n",
    "\n",
    "\n",
    "The we plot the UMAPS"
   ]
  },
  {
   "cell_type": "code",
   "execution_count": 2,
   "id": "ac30fb74-bbde-4552-8693-a9e393351f76",
   "metadata": {},
   "outputs": [],
   "source": [
    "if \"snakemake\" in globals():\n",
    "    adata_big = sc.read_h5ad(snakemake.input[\"adata_big\"])\n",
    "    adata_out_path = snakemake.output[\"adata_processed\"]\n",
    "else:\n",
    "    adata_big=sc.read_h5ad(\"/omics/odcf/analysis/OE0228_projects/VascularAging/rna_sequencing/public_scrnaseq/lung_lps/merged/anndata/adata_merged.h5ad\")"
   ]
  },
  {
   "cell_type": "code",
   "execution_count": 6,
   "id": "9e5ce394-cf0c-4233-a674-374804a5d268",
   "metadata": {},
   "outputs": [],
   "source": [
    "sample_names = [\"basal\", \"Hour6\",\"Day1\", \"Day2\", \"Day3\", \"Day7\"]\n",
    "labels = dict()\n",
    "for s_name in sample_names:\n",
    "    labels[s_name] = pd.read_csv(f\"./data/lunglps/{s_name}_label.csv\").set_index(\"Unnamed: 0\")\n",
    "    "
   ]
  },
  {
   "cell_type": "code",
   "execution_count": 7,
   "id": "11e7fcbf-988d-44bd-a969-30efb2858641",
   "metadata": {},
   "outputs": [],
   "source": [
    "labels[\"basal\"] = labels[\"basal\"].replace({1: \"immunec\", 2: \"devEC\", 3: \"Aerocyte\"})\n",
    "labels[\"Hour6\"] = labels[\"Hour6\"].replace({1: \"immunec\", 2: \"devEC\", 3: \"Aerocyte\"})\n",
    "labels[\"Day1\"] = labels[\"Day1\"].replace({1: \"immunec\", 2: \"devEC\", 3: \"Aerocyte\"})\n",
    "labels[\"Day2\"] = labels[\"Day2\"].replace({1: \"immunec\", 2: \"devEC\", 4: \"Aerocyte\"})\n",
    "labels[\"Day3\"] = labels[\"Day3\"].replace({1: \"immunec\", 3: \"proEC\", 2: \"Aerocyte\"})\n",
    "labels[\"Day7\"] = labels[\"Day7\"].replace({1: \"immunec\", 2: \"devEC\", 4: \"Aerocyte\"})\n",
    "labels_all = pd.concat(labels)\n",
    "labels_all=labels_all.reset_index()\n",
    "labels_all=labels_all.rename(columns={\"level_0\": \"samples\",\"Unnamed: 0\": \"cell_id\"})\n"
   ]
  },
  {
   "cell_type": "code",
   "execution_count": 8,
   "id": "1dd5fc44-29d5-4eed-a14a-3b5784bf81a5",
   "metadata": {},
   "outputs": [],
   "source": [
    "labels_all[\"cell_type\"] = labels_all[\"Clusters\"]\n",
    "\n",
    "labels_all[\"cell_type\"] = labels_all[\"cell_type\"].replace({\"devEC\": \"devEC/proEC\", \"proEC\": \"devEC/proEC\"})\n",
    "\n",
    "labels_all[\"cell_type\"] = labels_all[\"cell_type\"].where(labels_all[\"cell_type\"].isin([\"devEC/proEC\", \"Aerocyte\", \"immunec\"])).replace({np.nan: \"other\"})\n"
   ]
  },
  {
   "cell_type": "code",
   "execution_count": 9,
   "id": "6cdeec09-7cc5-4ecc-a70b-9c29da0747f4",
   "metadata": {},
   "outputs": [],
   "source": [
    "labels_all=labels_all.set_index(\"cell_id\")"
   ]
  },
  {
   "cell_type": "code",
   "execution_count": 10,
   "id": "4b12c227-71b9-43f8-800d-0243feb2b192",
   "metadata": {},
   "outputs": [],
   "source": [
    "import scipy.sparse as sp\n",
    "\n",
    "# Convert ndarray to csr_matrix\n",
    "\n"
   ]
  },
  {
   "cell_type": "code",
   "execution_count": 11,
   "id": "db670dfa-135e-4c83-8b6c-be5c5ac6a163",
   "metadata": {},
   "outputs": [
    {
     "name": "stderr",
     "output_type": "stream",
     "text": [
      "/tmp/ipykernel_30900/1600510565.py:3: SettingWithCopyWarning: \n",
      "A value is trying to be set on a copy of a slice from a DataFrame\n",
      "\n",
      "See the caveats in the documentation: https://pandas.pydata.org/pandas-docs/stable/user_guide/indexing.html#returning-a-view-versus-a-copy\n",
      "  adata_big.obs[\"Clusters\"][adata_big.obs[\"Clusters\"].isnull()] = \"missing\"\n"
     ]
    },
    {
     "ename": "MemoryError",
     "evalue": "Unable to allocate 4.69 GiB for an array with shape (32131, 19608) and data type int64",
     "output_type": "error",
     "traceback": [
      "\u001b[0;31m---------------------------------------------------------------------------\u001b[0m",
      "\u001b[0;31mMemoryError\u001b[0m                               Traceback (most recent call last)",
      "Cell \u001b[0;32mIn[11], line 5\u001b[0m\n\u001b[1;32m      2\u001b[0m adata_big\u001b[38;5;241m.\u001b[39mobs[\u001b[38;5;124m\"\u001b[39m\u001b[38;5;124mcell_type\u001b[39m\u001b[38;5;124m\"\u001b[39m] \u001b[38;5;241m=\u001b[39m labels_all[\u001b[38;5;124m\"\u001b[39m\u001b[38;5;124mcell_type\u001b[39m\u001b[38;5;124m\"\u001b[39m]\n\u001b[1;32m      3\u001b[0m adata_big\u001b[38;5;241m.\u001b[39mobs[\u001b[38;5;124m\"\u001b[39m\u001b[38;5;124mClusters\u001b[39m\u001b[38;5;124m\"\u001b[39m][adata_big\u001b[38;5;241m.\u001b[39mobs[\u001b[38;5;124m\"\u001b[39m\u001b[38;5;124mClusters\u001b[39m\u001b[38;5;124m\"\u001b[39m]\u001b[38;5;241m.\u001b[39misnull()] \u001b[38;5;241m=\u001b[39m \u001b[38;5;124m\"\u001b[39m\u001b[38;5;124mmissing\u001b[39m\u001b[38;5;124m\"\u001b[39m\n\u001b[0;32m----> 5\u001b[0m \u001b[43msc\u001b[49m\u001b[38;5;241;43m.\u001b[39;49m\u001b[43mpp\u001b[49m\u001b[38;5;241;43m.\u001b[39;49m\u001b[43mfilter_genes\u001b[49m\u001b[43m(\u001b[49m\u001b[43madata_big\u001b[49m\u001b[43m,\u001b[49m\u001b[43m \u001b[49m\u001b[43mmin_cells\u001b[49m\u001b[38;5;241;43m=\u001b[39;49m\u001b[38;5;241;43m1\u001b[39;49m\u001b[43m)\u001b[49m\n\u001b[1;32m      6\u001b[0m sc\u001b[38;5;241m.\u001b[39mpp\u001b[38;5;241m.\u001b[39mhighly_variable_genes(adata_big)\n",
      "File \u001b[0;32m/omics/groups/OE0436/internal/heyer/conda/envs/lunglps/lib/python3.11/site-packages/scanpy/preprocessing/_simple.py:251\u001b[0m, in \u001b[0;36mfilter_genes\u001b[0;34m(data, min_counts, min_cells, max_counts, max_cells, inplace, copy)\u001b[0m\n\u001b[1;32m    249\u001b[0m     \u001b[38;5;28;01melse\u001b[39;00m:\n\u001b[1;32m    250\u001b[0m         adata\u001b[38;5;241m.\u001b[39mvar[\u001b[38;5;124m'\u001b[39m\u001b[38;5;124mn_cells\u001b[39m\u001b[38;5;124m'\u001b[39m] \u001b[38;5;241m=\u001b[39m number\n\u001b[0;32m--> 251\u001b[0m     \u001b[43madata\u001b[49m\u001b[38;5;241;43m.\u001b[39;49m\u001b[43m_inplace_subset_var\u001b[49m\u001b[43m(\u001b[49m\u001b[43mgene_subset\u001b[49m\u001b[43m)\u001b[49m\n\u001b[1;32m    252\u001b[0m     \u001b[38;5;28;01mreturn\u001b[39;00m adata \u001b[38;5;28;01mif\u001b[39;00m copy \u001b[38;5;28;01melse\u001b[39;00m \u001b[38;5;28;01mNone\u001b[39;00m\n\u001b[1;32m    254\u001b[0m X \u001b[38;5;241m=\u001b[39m data  \u001b[38;5;66;03m# proceed with processing the data matrix\u001b[39;00m\n",
      "File \u001b[0;32m/omics/groups/OE0436/internal/heyer/conda/envs/lunglps/lib/python3.11/site-packages/anndata/_core/anndata.py:1305\u001b[0m, in \u001b[0;36mAnnData._inplace_subset_var\u001b[0;34m(self, index)\u001b[0m\n\u001b[1;32m   1299\u001b[0m \u001b[38;5;28;01mdef\u001b[39;00m \u001b[38;5;21m_inplace_subset_var\u001b[39m(\u001b[38;5;28mself\u001b[39m, index: Index1D):\n\u001b[1;32m   1300\u001b[0m \u001b[38;5;250m    \u001b[39m\u001b[38;5;124;03m\"\"\"\\\u001b[39;00m\n\u001b[1;32m   1301\u001b[0m \u001b[38;5;124;03m    Inplace subsetting along variables dimension.\u001b[39;00m\n\u001b[1;32m   1302\u001b[0m \n\u001b[1;32m   1303\u001b[0m \u001b[38;5;124;03m    Same as `adata = adata[:, index]`, but inplace.\u001b[39;00m\n\u001b[1;32m   1304\u001b[0m \u001b[38;5;124;03m    \"\"\"\u001b[39;00m\n\u001b[0;32m-> 1305\u001b[0m     adata_subset \u001b[38;5;241m=\u001b[39m \u001b[38;5;28;43mself\u001b[39;49m\u001b[43m[\u001b[49m\u001b[43m:\u001b[49m\u001b[43m,\u001b[49m\u001b[43m \u001b[49m\u001b[43mindex\u001b[49m\u001b[43m]\u001b[49m\u001b[38;5;241;43m.\u001b[39;49m\u001b[43mcopy\u001b[49m\u001b[43m(\u001b[49m\u001b[43m)\u001b[49m\n\u001b[1;32m   1306\u001b[0m     \u001b[38;5;28mself\u001b[39m\u001b[38;5;241m.\u001b[39m_init_as_actual(adata_subset)\n",
      "File \u001b[0;32m/omics/groups/OE0436/internal/heyer/conda/envs/lunglps/lib/python3.11/site-packages/anndata/_core/anndata.py:1583\u001b[0m, in \u001b[0;36mAnnData.copy\u001b[0;34m(self, filename)\u001b[0m\n\u001b[1;32m   1576\u001b[0m \u001b[38;5;28;01mif\u001b[39;00m \u001b[38;5;129;01mnot\u001b[39;00m \u001b[38;5;28mself\u001b[39m\u001b[38;5;241m.\u001b[39misbacked:\n\u001b[1;32m   1577\u001b[0m     \u001b[38;5;28;01mif\u001b[39;00m \u001b[38;5;28mself\u001b[39m\u001b[38;5;241m.\u001b[39mis_view \u001b[38;5;129;01mand\u001b[39;00m \u001b[38;5;28mself\u001b[39m\u001b[38;5;241m.\u001b[39m_has_X():\n\u001b[1;32m   1578\u001b[0m         \u001b[38;5;66;03m# TODO: How do I unambiguously check if this is a copy?\u001b[39;00m\n\u001b[1;32m   1579\u001b[0m         \u001b[38;5;66;03m# Subsetting this way means we don’t have to have a view type\u001b[39;00m\n\u001b[1;32m   1580\u001b[0m         \u001b[38;5;66;03m# defined for the matrix, which is needed for some of the\u001b[39;00m\n\u001b[1;32m   1581\u001b[0m         \u001b[38;5;66;03m# current distributed backend. Specifically Dask.\u001b[39;00m\n\u001b[1;32m   1582\u001b[0m         \u001b[38;5;28;01mreturn\u001b[39;00m \u001b[38;5;28mself\u001b[39m\u001b[38;5;241m.\u001b[39m_mutated_copy(\n\u001b[0;32m-> 1583\u001b[0m             X\u001b[38;5;241m=\u001b[39m\u001b[43m_subset\u001b[49m\u001b[43m(\u001b[49m\u001b[38;5;28;43mself\u001b[39;49m\u001b[38;5;241;43m.\u001b[39;49m\u001b[43m_adata_ref\u001b[49m\u001b[38;5;241;43m.\u001b[39;49m\u001b[43mX\u001b[49m\u001b[43m,\u001b[49m\u001b[43m \u001b[49m\u001b[43m(\u001b[49m\u001b[38;5;28;43mself\u001b[39;49m\u001b[38;5;241;43m.\u001b[39;49m\u001b[43m_oidx\u001b[49m\u001b[43m,\u001b[49m\u001b[43m \u001b[49m\u001b[38;5;28;43mself\u001b[39;49m\u001b[38;5;241;43m.\u001b[39;49m\u001b[43m_vidx\u001b[49m\u001b[43m)\u001b[49m\u001b[43m)\u001b[49m\u001b[38;5;241;43m.\u001b[39;49m\u001b[43mcopy\u001b[49m\u001b[43m(\u001b[49m\u001b[43m)\u001b[49m\n\u001b[1;32m   1584\u001b[0m         )\n\u001b[1;32m   1585\u001b[0m     \u001b[38;5;28;01melse\u001b[39;00m:\n\u001b[1;32m   1586\u001b[0m         \u001b[38;5;28;01mreturn\u001b[39;00m \u001b[38;5;28mself\u001b[39m\u001b[38;5;241m.\u001b[39m_mutated_copy()\n",
      "\u001b[0;31mMemoryError\u001b[0m: Unable to allocate 4.69 GiB for an array with shape (32131, 19608) and data type int64"
     ]
    }
   ],
   "source": [
    "adata_big.obs[\"Clusters\"] = labels_all[\"Clusters\"]\n",
    "adata_big.obs[\"cell_type\"] = labels_all[\"cell_type\"]\n",
    "adata_big.obs[\"Clusters\"][adata_big.obs[\"Clusters\"].isnull()] = \"missing\"\n",
    "\n",
    "sc.pp.filter_genes(adata_big, min_cells=1)\n",
    "#sc.pp.highly_variable_genes(adata_big)\n"
   ]
  },
  {
   "cell_type": "code",
   "execution_count": null,
   "id": "16214ee8",
   "metadata": {},
   "outputs": [],
   "source": [
    "\n",
    "sc.tl.pca(adata_big)\n",
    "sc.pl.pca_variance_ratio(adata_big, log=False)"
   ]
  },
  {
   "cell_type": "code",
   "execution_count": null,
   "id": "5cfd3f2d-e47e-4ffe-b930-5d6f2fa0cbc2",
   "metadata": {},
   "outputs": [],
   "source": [
    "sc.pp.neighbors(adata_big,n_pcs = 15)\n",
    "sc.tl.umap(adata_big, )"
   ]
  },
  {
   "cell_type": "code",
   "execution_count": null,
   "id": "bd58ffa4-4725-429e-8d8e-ccc4b41f7589",
   "metadata": {},
   "outputs": [],
   "source": [
    "adata_big.obs[\"Clusters\"] = adata_big.obs[\"Clusters\"].astype(\"category\")\n",
    "sc.pl.umap(\n",
    "    adata_big,\n",
    "    color=[\"sample\"]\n",
    ")\n",
    "sc.pl.umap(adata_big, color = \"Clusters\")\n",
    "sc.pl.umap(adata_big, color = \"cell_type\")"
   ]
  },
  {
   "cell_type": "markdown",
   "id": "02ed946d-a016-4628-b4d0-114b86eb6879",
   "metadata": {},
   "source": [
    "These first wo UMAPS above show cells from all expreiments and the clusters annotated from in the second figure. \n",
    "\n",
    "Aerocytes cljuster separately to all other cells. Among the other ECs Hour6 both devEC and ImmuneEC populations cluster away -> Whereas in the other data these cell types seem to cluster in one large cluster in the middle. "
   ]
  },
  {
   "cell_type": "code",
   "execution_count": null,
   "id": "672fd4f2-c3b8-4b01-ae2f-7413ff4ab9d6",
   "metadata": {},
   "outputs": [],
   "source": [
    "sc.pl.umap(\n",
    "    adata_big, \n",
    "    color=[\"Aplnr\"],     \n",
    "    vmin=0,\n",
    "    vmax=\"p99\",  # set vmax to the 99th percentile of the gene count instead of the maximum, to prevent outliers from making expression in other cells invisible. Note that this can cause problems for extremely lowly expressed genes.\n",
    "    sort_order=False,  # do not plot highest expression on top, to not get a biased view of the mean expression among cells\n",
    "    frameon=False,\n",
    "    cmap=\"Reds\")\n",
    "        "
   ]
  },
  {
   "cell_type": "markdown",
   "id": "d9b7cffe",
   "metadata": {},
   "source": [
    "## Compositional Analysis\n",
    "\n",
    "Analyze the composition of the annoated EC cell types to track the changes. \n"
   ]
  },
  {
   "cell_type": "code",
   "execution_count": 2,
   "id": "4b46bcf0",
   "metadata": {},
   "outputs": [],
   "source": [
    "\n",
    "import pertpy as pt\n"
   ]
  },
  {
   "cell_type": "code",
   "execution_count": 3,
   "id": "3b1af56e",
   "metadata": {},
   "outputs": [
    {
     "ename": "NameError",
     "evalue": "name 'adata_big' is not defined",
     "output_type": "error",
     "traceback": [
      "\u001b[0;31m---------------------------------------------------------------------------\u001b[0m",
      "\u001b[0;31mNameError\u001b[0m                                 Traceback (most recent call last)",
      "Cell \u001b[0;32mIn[3], line 3\u001b[0m\n\u001b[1;32m      1\u001b[0m sccoda_model \u001b[38;5;241m=\u001b[39m pt\u001b[38;5;241m.\u001b[39mtl\u001b[38;5;241m.\u001b[39mSccoda()\n\u001b[1;32m      2\u001b[0m sccoda_data \u001b[38;5;241m=\u001b[39m sccoda_model\u001b[38;5;241m.\u001b[39mload(\n\u001b[0;32m----> 3\u001b[0m     \u001b[43madata_big\u001b[49m,\n\u001b[1;32m      4\u001b[0m     \u001b[38;5;28mtype\u001b[39m\u001b[38;5;241m=\u001b[39m\u001b[38;5;124m\"\u001b[39m\u001b[38;5;124mcell_level\u001b[39m\u001b[38;5;124m\"\u001b[39m,\n\u001b[1;32m      5\u001b[0m     cell_type_identifier\u001b[38;5;241m=\u001b[39m\u001b[38;5;124m\"\u001b[39m\u001b[38;5;124mcell_type\u001b[39m\u001b[38;5;124m\"\u001b[39m,\n\u001b[1;32m      6\u001b[0m     sample_identifier\u001b[38;5;241m=\u001b[39m\u001b[38;5;124m\"\u001b[39m\u001b[38;5;124msample\u001b[39m\u001b[38;5;124m\"\u001b[39m,\n\u001b[1;32m      7\u001b[0m )\n\u001b[1;32m      8\u001b[0m sccoda_data\n",
      "\u001b[0;31mNameError\u001b[0m: name 'adata_big' is not defined"
     ]
    }
   ],
   "source": [
    "sccoda_model = pt.tl.Sccoda()\n",
    "sccoda_data = sccoda_model.load(\n",
    "    adata_big,\n",
    "    type=\"cell_level\",\n",
    "    cell_type_identifier=\"cell_type\",\n",
    "    sample_identifier=\"sample\",\n",
    ")\n",
    "sccoda_data"
   ]
  },
  {
   "cell_type": "code",
   "execution_count": null,
   "id": "0ed17c1d-e120-4be2-8e67-ef78363e5d8a",
   "metadata": {},
   "outputs": [],
   "source": [
    "pt.pl.coda.boxplots(\n",
    "    sccoda_data,\n",
    "    modality_key=\"coda\",\n",
    "    feature_name=\"sample\",\n",
    "    figsize=(12, 5),\n",
    "    add_dots=False,\n",
    "    args_swarmplot={\"palette\": [\"red\"]},\n",
    ")\n"
   ]
  },
  {
   "cell_type": "code",
   "execution_count": null,
   "id": "982467a3-b23a-447d-afc3-fbaf764feb36",
   "metadata": {},
   "outputs": [],
   "source": [
    "pt.pl.coda.stacked_barplot(\n",
    "    sccoda_data, modality_key=\"coda\", feature_name=\"sample\", figsize=(4, 2),\n",
    ")"
   ]
  },
  {
   "cell_type": "code",
   "execution_count": null,
   "id": "775d3a2b-e50f-40db-8666-bbe448e3ce0f",
   "metadata": {},
   "outputs": [],
   "source": []
  },
  {
   "cell_type": "markdown",
   "id": "d6ee5766-6de7-4ef3-aa9b-a691a7bbd17e",
   "metadata": {},
   "source": [
    "Aplnr Expression is primarily in the center cluster with some expression in the DevEC and immuneEC cluster in the center of the image. "
   ]
  },
  {
   "cell_type": "markdown",
   "id": "c91348cf-c5bf-4fe4-abc8-15224001bd91",
   "metadata": {},
   "source": [
    "## Get Annotations"
   ]
  },
  {
   "cell_type": "markdown",
   "id": "1b995050-5021-423b-8e50-68be95ca395f",
   "metadata": {},
   "source": [
    "Functional annotations are added from MSIGDB and we also create a subdataset with signatures from FRIDMAN_SENSCENCE_UP/DN"
   ]
  },
  {
   "cell_type": "code",
   "execution_count": null,
   "id": "e4beb130-31e5-45e6-946e-52bc2566645f",
   "metadata": {},
   "outputs": [],
   "source": [
    "msigdb=pd.read_csv(\"resources/msig_mouse.csv.gz\")\n",
    "msig_small=msigdb[[\"genesymbol\",\"geneset\"]].drop_duplicates()\n"
   ]
  },
  {
   "cell_type": "code",
   "execution_count": null,
   "id": "9ca52650-5771-4265-a10e-6504b753ded3",
   "metadata": {},
   "outputs": [],
   "source": [
    "senscence = msig_small[msig_small['geneset'].isin(['FRIDMAN_SENESCENCE_UP', 'FRIDMAN_SENESCENCE_DN'])]"
   ]
  },
  {
   "cell_type": "code",
   "execution_count": null,
   "id": "c1aaa9b8-7562-4552-acd9-a0aa4c64be99",
   "metadata": {},
   "outputs": [],
   "source": [
    "import pandas as pd\n",
    "\n",
    "# Define the URL of the TSV file\n",
    "url = \"http://www.informatics.jax.org/downloads/reports/HMD_HumanPhenotype.rpt\"\n",
    "\n",
    "# Define the column names for the dataframe\n",
    "col_names = [\"hgene\",\"hID\", \"mgene\", \"mID\", \"lcol\", \"ncol\"]\n",
    "\n",
    "# Use pandas to read the TSV file into a dataframe\n",
    "mouse_human_homologs = pd.read_csv(url, sep=\"\\t\", header = None, index_col=None)\n",
    "mouse_human_homologs.columns = col_names\n",
    "# Print the first few rows of the dataframe\n"
   ]
  },
  {
   "cell_type": "code",
   "execution_count": 4,
   "id": "d4ec0433-143b-48ce-b4d3-4c7bfc8781c3",
   "metadata": {},
   "outputs": [
    {
     "ename": "NameError",
     "evalue": "name 'adata_big' is not defined",
     "output_type": "error",
     "traceback": [
      "\u001b[0;31m---------------------------------------------------------------------------\u001b[0m",
      "\u001b[0;31mNameError\u001b[0m                                 Traceback (most recent call last)",
      "Cell \u001b[0;32mIn[4], line 2\u001b[0m\n\u001b[1;32m      1\u001b[0m \u001b[38;5;66;03m# Subset adata_object\u001b[39;00m\n\u001b[0;32m----> 2\u001b[0m adata_hvg \u001b[38;5;241m=\u001b[39m \u001b[43madata_big\u001b[49m[:, adata_big\u001b[38;5;241m.\u001b[39mvar[\u001b[38;5;124m\"\u001b[39m\u001b[38;5;124mhighly_variable\u001b[39m\u001b[38;5;124m\"\u001b[39m]]\n",
      "\u001b[0;31mNameError\u001b[0m: name 'adata_big' is not defined"
     ]
    }
   ],
   "source": [
    "# Subset adata_object\n",
    "adata_hvg = adata_big[:, adata_big.var[\"highly_variable\"]]"
   ]
  },
  {
   "cell_type": "markdown",
   "id": "b9fabd4e-a81c-4c79-9e05-27a1e8d2b2f2",
   "metadata": {},
   "source": [
    "### EC.SENESCENCE.SIG \n",
    "\n",
    "THe gene list below was taken from Wu, Z., Uhl, B., Gires, O. & Reichel, C. A. A transcriptomic pan-cancer signature for survival prognostication and prediction of immunotherapy response based on endothelial senescence. J Biomed Sci 30, 1–19 (2023).\n",
    "where a pan-cancer transriptome signature for EC senscence is descrbied. -> We checked its activitiy in this dataset to asses it versus other known senescence indicators. \n",
    "\n",
    "We translate the genes to the human homologs to start off. and then add it to our senescence signature of interest. "
   ]
  },
  {
   "cell_type": "code",
   "execution_count": null,
   "id": "5ef1d81a-3370-42af-8bd1-9dc5b4828063",
   "metadata": {},
   "outputs": [],
   "source": [
    "import pandas as pd\n",
    "\n",
    "# List of genes as a Python Series\n",
    "gene_series = [\n",
    "    \"FERMT2\", \"PLXNA2\", \"FLT1\", \"CAV2\", \"ICAM2\", \"GALNT18\", \"LAMA4\", \"SPARC\", \"PCDH12\",\n",
    "    \"PLEKHG1\", \"MYCT1\", \"EFNB2\", \"CD93\", \"RHOJ\", \"KDR\", \"PODXL\", \"DLL4\", \"DOCK6\", \"PLVAP\",\n",
    "    \"TMEM204\", \"NES\", \"COL4A2\", \"HECW2\", \"DUSP6\", \"ACVRL1\", \"PTPRG\", \"ESAM\", \"PRSS23\", \"GJA1\",\n",
    "    \"AFAP1L1\", \"STC1\", \"COX7A1\", \"ITGA5\", \"BCL6B\", \"IGFBP7\", \"TM4SF18\", \"DLC1\", \"JCAD\", \"CYYR1\",\n",
    "    \"SYNPO\", \"MMRN2\", \"CD34\", \"FZD4\", \"A2M\", \"CAVIN1\", \"CDH5\", \"IL3RA\", \"BCAM\", \"COL4A1\",\n",
    "    \"S100A16\", \"TCF4\", \"TGM2\", \"BMPR2\", \"SCARF1\", \"ECE1\", \"PLK2\", \"RHOC\", \"SERPINH1\", \"INSR\",\n",
    "    \"IPO11\", \"MAGI1\", \"NID1\", \"MECOM\", \"UACA\", \"TUBB6\", \"LMO2\", \"NECTIN2\", \"GRB10\", \"LAMA5\",\n",
    "    \"LUZP1\", \"MAST4\", \"DYSF\", \"PNP\", \"NRP1\", \"CAVIN3\", \"LRRC8A\", \"EFNA1\", \"NFIA\", \"EHD4\",\n",
    "    \"TNFAIP1\", \"PLXND1\", \"LAMB1\", \"RGS3\", \"ZEB1\", \"TRIOBP\", \"FSCN1\", \"YES1\", \"JAG1\", \"PEA15\",\n",
    "    \"RAB13\", \"PHACTR2\", \"LAMC1\", \"VWA1\", \"PPIC\", \"SLC44A2\", \"PLEKHA1\", \"TPM4\", \"GNAI2\", \"MGLL\",\n",
    "    \"UTRN\", \"CAPNS1\"\n",
    "]\n",
    "\n",
    "# Print the Series \n",
    "print(gene_series)\n"
   ]
  },
  {
   "cell_type": "code",
   "execution_count": null,
   "id": "a598c5e2-3efc-4f3e-874d-7c62da4ad83e",
   "metadata": {},
   "outputs": [],
   "source": [
    "mouse_genes = mouse_human_homologs[mouse_human_homologs[\"hgene\"].isin(gene_series)]\n",
    "mouse_genes"
   ]
  },
  {
   "cell_type": "code",
   "execution_count": null,
   "id": "7c0053bb-5c4b-4743-8848-c2070f2a67d9",
   "metadata": {},
   "outputs": [],
   "source": [
    "\n"
   ]
  },
  {
   "cell_type": "code",
   "execution_count": null,
   "id": "c17ec8b7-6852-493e-a6ac-6d64dbf290b2",
   "metadata": {
    "jp-MarkdownHeadingCollapsed": true,
    "tags": []
   },
   "outputs": [],
   "source": [
    "EC_sig = pd.DataFrame({\"genesymbol\": mouse_genes.mgene, \"geneset\": \"ec_Senescence_sig\"})"
   ]
  },
  {
   "cell_type": "code",
   "execution_count": null,
   "id": "e41e02dc-eadb-49ab-978b-de95adc8c833",
   "metadata": {},
   "outputs": [],
   "source": [
    "import pandas as pd\n",
    "# GEt Quiescence Signatures read from \"../multicondition-deseq2-enrichment/data/senescence_genesets.txt\"\n",
    "\n",
    "filepath = \"../multicondition-deseq2-enrichment/data/senescence_genesets.txt\"\n",
    "df = pd.read_csv(filepath, sep='\\t')\n",
    "# change df colnames to \"genesymbol\" and \"geneset\"\n",
    "df.columns = [\"geneset\", \"genesymbol\"]\n",
    "df\n",
    "\n"
   ]
  },
  {
   "cell_type": "code",
   "execution_count": null,
   "id": "5e8401b4-68bd-4d75-ba77-f53517832176",
   "metadata": {},
   "outputs": [],
   "source": [
    "full_sen =pd.concat([senscence, EC_sig,df])"
   ]
  },
  {
   "cell_type": "code",
   "execution_count": null,
   "id": "95ba1fd4-167e-4e54-bdb9-2e13e56b0921",
   "metadata": {},
   "outputs": [],
   "source": [
    "hallmarks = msigdb[msigdb['collection']=='hallmark']\n",
    "\n",
    "# Remove duplicated entries\n",
    "hallmarks = hallmarks[~hallmarks.duplicated(['geneset', 'genesymbol'])]\n",
    "hallmarks"
   ]
  },
  {
   "cell_type": "code",
   "execution_count": null,
   "id": "2ec37b02-7e91-4e2e-93b7-ee953bad3485",
   "metadata": {},
   "outputs": [],
   "source": [
    "#adata_big.X = adata_big.layers[\"scran_normalization\"]"
   ]
  },
  {
   "cell_type": "code",
   "execution_count": null,
   "id": "890b1abb-42b4-4852-b37b-95db90f685f7",
   "metadata": {},
   "outputs": [],
   "source": [
    "#adata_big.layers"
   ]
  },
  {
   "cell_type": "code",
   "execution_count": null,
   "id": "0cd1819e-479f-4b42-ab92-eed7870c85db",
   "metadata": {},
   "outputs": [],
   "source": [
    "dc.run_ora(\n",
    "    mat=adata_hvg,\n",
    "    net=pd.concat([hallmarks, full_sen]),\n",
    "    source='geneset',\n",
    "    target='genesymbol',\n",
    "    verbose=True,\n",
    "    use_raw=False\n",
    ")"
   ]
  },
  {
   "cell_type": "code",
   "execution_count": null,
   "id": "bd15a3b1-afe9-48a8-9382-e5250173793f",
   "metadata": {},
   "outputs": [],
   "source": [
    "dc.run_aucell(\n",
    "    mat=adata_hvg,\n",
    "    net=pd.concat([hallmarks, full_sen]),\n",
    "    source='geneset',\n",
    "    target='genesymbol',\n",
    "    verbose=True,\n",
    "    use_raw=False\n",
    ")"
   ]
  },
  {
   "cell_type": "code",
   "execution_count": null,
   "id": "b8aa82eb-3205-4f22-b180-08d0c4a69923",
   "metadata": {},
   "outputs": [],
   "source": [
    "labels_all.index = labels_all.index.to_flat_index()"
   ]
  },
  {
   "cell_type": "code",
   "execution_count": null,
   "id": "845243ab-5710-44e2-a77e-5e3acd9616ba",
   "metadata": {},
   "outputs": [],
   "source": [
    "adata_big\n",
    "sc.pl.violin(adata_big, keys = [\"Aplnr\", \"Junb\"], groupby = \"sample\", order=sample_names)\n",
    "adata_big.obs[\"Clusters\"]"
   ]
  },
  {
   "cell_type": "code",
   "execution_count": null,
   "id": "9fddfb82-3a80-4964-8735-59123b9f17fa",
   "metadata": {},
   "outputs": [],
   "source": [
    "sc.pl.dotplot(adata_big, var_names = [\"Aplnr\", \"Apln\"], groupby = \"sample\", categories_order = sample_names)"
   ]
  },
  {
   "cell_type": "code",
   "execution_count": null,
   "id": "9bdf5cfe-15f8-4e84-ac15-4523da9b5932",
   "metadata": {},
   "outputs": [],
   "source": [
    "adata_big.obs[\"sample_cluster\"] = adata_big.obs[\"sample\"].astype(\"str\") + \"_\" + adata_big.obs[\"cell_type\"].astype(\"str\")\n",
    "\n",
    "sc.pl.dotplot(adata_big, var_names = [\"Aplnr\", \"Apln\"], groupby = \"cell_type\")"
   ]
  },
  {
   "cell_type": "code",
   "execution_count": null,
   "id": "fcdfd0af-d051-449f-a10e-c27cd775426e",
   "metadata": {},
   "outputs": [],
   "source": []
  },
  {
   "cell_type": "code",
   "execution_count": null,
   "id": "3f49950c-5196-4b5f-bc4a-f6f1986465d7",
   "metadata": {},
   "outputs": [],
   "source": [
    "sc.pl.dotplot(adata_big, var_names = [\"Aplnr\", \"Apln\"], groupby = \"sample_cluster\")"
   ]
  },
  {
   "cell_type": "markdown",
   "id": "62e6526a-0822-43a5-82f1-819a0cdf811e",
   "metadata": {},
   "source": [
    "Here we clearly see that Aplnr Expression is present at the start but after treatment with LPS drops to almost 0 by day1. However by Day7 -> Aplnr Expression increases and overshoots the expression from the start of the experiment\n",
    "\n",
    "Lastly, we have som extra plots below with alternative color schemes and looking at Aplnr Expression across the different cell types. "
   ]
  },
  {
   "cell_type": "code",
   "execution_count": null,
   "id": "04eee101-3717-482a-b8a2-efc8fde3e883",
   "metadata": {},
   "outputs": [],
   "source": [
    "sc.pl.umap(\n",
    "    adata_big,\n",
    "    color=[\"Prox1\",\"Nr2f2\", \"Aplnr\"],     \n",
    "    vmin=0,\n",
    "    vmax=\"p99\",  # set vmax to the 99th percentile of the gene count instead of the maximum, to prevent outliers from making expression in other cells invisible. Note that this can cause problems for extremely lowly expressed genes.\n",
    "    sort_order=False,  # do not plot highest expression on top, to not get a biased view of the mean expression among cells\n",
    "    frameon=False,\n",
    "    cmap=\"Reds\"\n",
    ")\n"
   ]
  },
  {
   "cell_type": "code",
   "execution_count": null,
   "id": "84a66f46-f0ed-4c3c-8a65-752428ebdc45",
   "metadata": {},
   "outputs": [],
   "source": [
    "adata_big"
   ]
  },
  {
   "cell_type": "code",
   "execution_count": null,
   "id": "df24c595-0d01-46d6-8391-2c03a45e9001",
   "metadata": {},
   "outputs": [],
   "source": [
    "sc.pl.umap(\n",
    "    adata_big,\n",
    "    color=[\"Aplnr\"],\n",
    "    vmax=\"p99\"\n",
    ")\n",
    "sc.pl.violin(\n",
    "    adata_big,\n",
    "    keys= [\"Aplnr\"],\n",
    "    groupby=\"cell_type\"\n",
    ")"
   ]
  },
  {
   "cell_type": "markdown",
   "id": "d8ec6150-682a-462b-a225-fc4f4eafdfad",
   "metadata": {},
   "source": [
    "## Enrichments for adata big Lung lps"
   ]
  },
  {
   "cell_type": "markdown",
   "id": "6d74f964-c4ca-4019-8f57-5c2a80992d58",
   "metadata": {},
   "source": [
    "To get a better understanding of the data, we performed an over representation analysis (using decoupler-py) against the HALLMARK gene sets from Msigdb, FRIDMAN_SENESCENCE_UP/DN and the EC.SENESCENCE.SIG signature.\n",
    "\n",
    "\n"
   ]
  },
  {
   "cell_type": "markdown",
   "id": "fc228f8b-f0cb-4c86-abd7-2c1a797601dd",
   "metadata": {},
   "source": [
    "### Enrichment using ORA tests\n"
   ]
  },
  {
   "cell_type": "code",
   "execution_count": null,
   "id": "a816ed07-62be-4cd7-adc8-17dcca18b014",
   "metadata": {},
   "outputs": [],
   "source": [
    "adata_hvg.X = np.nan_to_num(adata_hvg.X)"
   ]
  },
  {
   "cell_type": "code",
   "execution_count": null,
   "id": "d0fd4925-f2b3-47a0-b2a6-5157b9ebaf54",
   "metadata": {},
   "outputs": [],
   "source": [
    "acts = dc.get_acts(adata_hvg, obsm_key='ora_estimate')\n",
    "\n",
    "# We need to remove inf and set them to the maximum value observed\n",
    "acts_v = acts.X.ravel()\n",
    "max_e = np.nanmax(acts_v[np.isfinite(acts_v)])\n",
    "acts.X[~np.isfinite(acts.X)] = max_e\n",
    "\n",
    "acts\n",
    "\n",
    "\n",
    "\n",
    "acts.obsm[\"ora_estimate\"].columns"
   ]
  },
  {
   "cell_type": "code",
   "execution_count": null,
   "id": "1f20a7ad-cf92-4389-9c30-4a521ebcc4e0",
   "metadata": {},
   "outputs": [],
   "source": [
    "gs_of_interest = ['HALLMARK_DNA_REPAIR', 'HALLMARK_INTERFERON_ALPHA_RESPONSE', \n",
    "                        'FRIDMAN_SENESCENCE_DN', 'FRIDMAN_SENESCENCE_UP', 'ec_Senescence_sig']\n",
    "sc.pl.umap(acts, color=gs_of_interest, cmap='RdBu_r',vmax = \"p99\",ncols=3)\n",
    "sc.pl.umap(acts, color=\"sample\")\n",
    "\n",
    "sc.pl.violin(acts, keys=gs_of_interest, groupby='sample', rotation=90, multi_panel=True,order =[\"basal\", \"Hour6\", \"Day1\", \"Day2\", \"Day3\", \"Day7\"] )\n",
    "sc.pl.violin(acts, keys=gs_of_interest, groupby='cell_type', rotation=90, multi_panel=True )\n"
   ]
  },
  {
   "cell_type": "markdown",
   "id": "d5b3c0fe-6fcb-4b02-8ca6-9da7b6700f55",
   "metadata": {},
   "source": [
    "Here we the activity of some selected gene sets in these data. \n",
    ". First we have the per cell Enrichment between six gene sets. After Stimulus at Hour6 Intereron Response Increases due ot the DNA Damage. DNA Repair is active in a subset of proECs at day3. \n",
    "\n",
    "The Senescene signatures show now clear signs in the UMAP, however in the Violin plots we see some evidence that the EC Senescence signature falls a bit during inflammation and is increased by day7. HOwever the picture is not very clear here. \n",
    "\n",
    "Next we rank the group sources by testing if the change between one samples vs all other samples is significant in some of the gene sets. \n",
    "\n",
    "We than take the top five per group and produce the matrix plot below. "
   ]
  },
  {
   "cell_type": "code",
   "execution_count": null,
   "id": "a8c16885-2a1f-483d-8bc7-c47c47ad1871",
   "metadata": {},
   "outputs": [],
   "source": [
    "df = dc.rank_sources_groups(acts, groupby='sample', reference='rest', method='t-test_overestim_var')\n",
    "df\n",
    "\n",
    "df_basal = dc.rank_sources_groups(acts, groupby='sample', reference='basal', method='t-test_overestim_var')\n",
    "\n"
   ]
  },
  {
   "cell_type": "code",
   "execution_count": null,
   "id": "a9425160-66b3-486f-9472-2b23adf1264e",
   "metadata": {},
   "outputs": [],
   "source": [
    "df_basal"
   ]
  },
  {
   "cell_type": "code",
   "execution_count": null,
   "id": "ff9169b8-2d09-4931-a5aa-a26fc6cde6ee",
   "metadata": {},
   "outputs": [],
   "source": [
    "n_markers = 5\n",
    "source_markers = df.groupby('group').head(n_markers).groupby('group')['names'].apply(lambda x: list(x)).to_dict()\n",
    "source_markers =  {k: source_markers[k] for k in [\"basal\", \"Hour6\", \"Day1\", \"Day2\", \"Day3\", \"Day7\"]}\n",
    "\n",
    "n_markers = 5\n",
    "source_markers_basal = df_basal.groupby('group').head(n_markers).groupby('group')['names'].apply(lambda x: list(x)).to_dict()\n",
    "source_markers_basal =  {k: source_markers_basal[k] for k in [\"Hour6\", \"Day1\", \"Day2\", \"Day3\", \"Day7\"]}\n",
    "\n",
    "\n"
   ]
  },
  {
   "cell_type": "code",
   "execution_count": null,
   "id": "105b4c69-6850-447e-9d01-8ef96f9f7478",
   "metadata": {},
   "outputs": [],
   "source": [
    "sc.pl.matrixplot(acts, source_markers, 'sample', dendrogram=False, title=\"vs_all\",\n",
    "                 colorbar_title='Z-scaled scores',standard_scale='var', cmap='RdBu_r',categories_order = [\"basal\", \"Hour6\", \"Day1\", \"Day2\", \"Day3\", \"Day7\"])\n",
    "\n",
    "sc.pl.matrixplot(acts, source_markers_basal, 'sample', dendrogram=False, title=\"vs basal\",\n",
    "                 colorbar_title='Z-scaled scores',standard_scale='var', cmap='RdBu_r',categories_order = [\"basal\", \"Hour6\", \"Day1\", \"Day2\", \"Day3\", \"Day7\"])"
   ]
  },
  {
   "cell_type": "markdown",
   "id": "377d2825-f15a-48fb-8558-a1ead95d465e",
   "metadata": {},
   "source": [
    "Here the Activitiy of the top 5 enriched processes per samples is assesed across all samples. -> \n",
    "Two versions of this analysis were created. IN the first one we compare the enrichments as SAMPLe vs ALL other smaples and in the second analysis we set \"basal as the baseline comparison. \n",
    "Results are similar. \n",
    "\n",
    "We see that the EC Senescence_sig is enriched on  DAY7. Inflammatory pathways are up from Hour6- day2 and On day3 repair processes are upregulated. \n"
   ]
  },
  {
   "cell_type": "markdown",
   "id": "59467542-57aa-4b2c-bb20-4c51f761dc34",
   "metadata": {},
   "source": [
    "### Enrichments using AUcell"
   ]
  },
  {
   "cell_type": "markdown",
   "id": "7bd365f9-761a-465b-b170-3cb75d2614e9",
   "metadata": {},
   "source": [
    "Here we use an alternative strategy for enrichment analysis. Since we have no weights assigned to genes we stuck to another method that doesn expect weighted gene sets (AUcell)\n",
    "\n",
    "Plots are corresponding to the OR analysis. \n"
   ]
  },
  {
   "cell_type": "code",
   "execution_count": null,
   "id": "d7382143-4194-4410-a5b5-c89d43d3dd01",
   "metadata": {},
   "outputs": [],
   "source": [
    "acts = dc.get_acts(adata_hvg, obsm_key='aucell_estimate')\n",
    "\n",
    "# We need to remove inf and set them to the maximum value observed\n",
    "acts_v = acts.X.ravel()\n",
    "max_e = np.nanmax(acts_v[np.isfinite(acts_v)])\n",
    "acts.X[~np.isfinite(acts.X)] = max_e\n",
    "\n",
    "acts\n",
    "\n",
    "\n",
    "\n",
    "acts.obsm[\"aucell_estimate\"].columns"
   ]
  },
  {
   "cell_type": "code",
   "execution_count": null,
   "id": "fe4e7cf3-4c6b-43ce-93b9-d8a452b97852",
   "metadata": {},
   "outputs": [],
   "source": [
    "gs_of_interest = ['HALLMARK_DNA_REPAIR', 'HALLMARK_INTERFERON_ALPHA_RESPONSE', \n",
    "                        'FRIDMAN_SENESCENCE_DN', 'FRIDMAN_SENESCENCE_UP', 'ec_Senescence_sig']\n",
    "sc.pl.umap(acts, color=gs_of_interest, cmap='RdBu_r',vmax = \"p99\",ncols=3)\n",
    "sc.pl.umap(acts, color=\"sample\")\n",
    "\n",
    "sc.pl.violin(acts, keys=gs_of_interest, groupby='sample', rotation=90, multi_panel=True,order =[\"basal\", \"Hour6\", \"Day1\", \"Day2\", \"Day3\", \"Day7\"] )\n"
   ]
  },
  {
   "cell_type": "code",
   "execution_count": null,
   "id": "3ff2e6bf-77d7-4ee2-87cd-061e68a361ea",
   "metadata": {},
   "outputs": [],
   "source": [
    "import seaborn as sns\n",
    "from scipy.stats import pearsonr\n",
    "import pandas as pd\n",
    "\n",
    "selected_indices = adata_hvg.obs.index[adata_big.obs['cell_type'].isin(['devEC/proEC', 'immunec'])]\n",
    "\n",
    "aucell_res = acts.obsm[\"aucell_estimate\"].loc[selected_indices]\n",
    "Aplnr_expr = pd.Series(adata_big[selected_indices, \"Aplnr\"].X.todense().A1)\n",
    "\n",
    "correlations = []\n",
    "p_values = []\n",
    "for col in aucell_res:\n",
    "    corr, p_value = pearsonr(Aplnr_expr, aucell_res[col])\n",
    "    correlations.append(corr)\n",
    "    p_values.append(p_value)\n",
    "\n",
    "# Create a dataframe with the correlations, p-values, and index of aucell_res\n",
    "df = pd.DataFrame({'correlation': correlations, 'p-value': p_values}, index=aucell_res.columns)\n",
    "\n",
    "# Plot the correlations as a heatmap using seaborn\n",
    "sns.heatmap(df, cmap='coolwarm')"
   ]
  },
  {
   "cell_type": "code",
   "execution_count": null,
   "id": "acb0b45f-6b36-4bd3-9fe2-15559a3e126b",
   "metadata": {},
   "outputs": [],
   "source": [
    "# Create a dataframe with the correlations and index of aucell_res\n",
    "#df = pd.DataFrame({'correlation': correlations}, index=aucell_res.columns)\n",
    "df = df.sort_values(by='correlation', ascending=False)\n",
    "df"
   ]
  },
  {
   "cell_type": "code",
   "execution_count": null,
   "id": "d1092349-a0d7-4f41-9be0-2e36f7523b41",
   "metadata": {},
   "outputs": [],
   "source": [
    "# Plot the correlations as a heatmap using seaborn\n",
    "sns.heatmap(df, cmap='coolwarm')"
   ]
  },
  {
   "cell_type": "code",
   "execution_count": null,
   "id": "3849601d-fbd5-4efa-befa-581135badc57",
   "metadata": {},
   "outputs": [],
   "source": [
    "df = dc.rank_sources_groups(acts, groupby='sample', reference='rest', method='t-test_overestim_var')\n",
    "df\n",
    "df_basal = dc.rank_sources_groups(acts, groupby='sample', reference='basal', method='t-test_overestim_var')\n",
    "df_basal"
   ]
  },
  {
   "cell_type": "code",
   "execution_count": null,
   "id": "1cb7fd97-b26d-4fa6-b10b-72d9b2fef33f",
   "metadata": {},
   "outputs": [],
   "source": [
    "n_markers = 5\n",
    "source_markers = df.groupby('group').head(n_markers).groupby('group')['names'].apply(lambda x: list(x)).to_dict()\n",
    "source_markers =  {k: source_markers[k] for k in [\"basal\", \"Hour6\", \"Day1\", \"Day2\", \"Day3\", \"Day7\"]}\n",
    "\n",
    "source_markers_basal = df_basal.groupby('group').head(n_markers).groupby('group')['names'].apply(lambda x: list(x)).to_dict()\n",
    "source_markers_basal =  {k: source_markers_basal[k] for k in [\"Hour6\", \"Day1\", \"Day2\", \"Day3\", \"Day7\"]}\n",
    "\n"
   ]
  },
  {
   "cell_type": "code",
   "execution_count": null,
   "id": "934da531-eb32-4cc2-9925-2911d20bcaf1",
   "metadata": {},
   "outputs": [],
   "source": [
    "sc.pl.matrixplot(acts, source_markers, 'sample', dendrogram=False,standard_scale=\"var\", title= \"vs all\",\n",
    "                 colorbar_title='Z-scaled scores', cmap='RdBu_r', categories_order = [\"basal\", \"Hour6\", \"Day1\", \"Day2\", \"Day3\", \"Day7\"])\n",
    "\n",
    "sc.pl.matrixplot(acts, source_markers_basal, 'sample', dendrogram=False,standard_scale=\"var\", title = \"vs basal\",\n",
    "                 colorbar_title='Z-scaled scores', cmap='RdBu_r', categories_order = [\"basal\", \"Hour6\", \"Day1\", \"Day2\", \"Day3\", \"Day7\"])"
   ]
  },
  {
   "cell_type": "code",
   "execution_count": null,
   "id": "28e7501b-0833-408a-b795-270fce1e0c26",
   "metadata": {},
   "outputs": [],
   "source": [
    "adata_big.obs[\"Clusters\"] = adata_big.obs[\"Clusters\"].astype(\"string\")\n",
    "\n",
    "for col in adata_big.obs.columns:\n",
    "    #check dtype of column\n",
    "    if adata_big.obs[col].dtypes in (\"string\", \"category\"):\n",
    "        # if dtype is string convert to category\n",
    "        adata_big.obs[col] = adata_big.obs[col].astype(\"object\")\n",
    "\n",
    "adata_big.write_h5ad(adata_out_path)"
   ]
  },
  {
   "cell_type": "markdown",
   "id": "2eaca3c4-54ef-4e02-ac3c-9d7624db1789",
   "metadata": {},
   "source": [
    "Enrichments usinsg AUCell are very similar to ORA -> So we refer to the ORA results. "
   ]
  }
 ],
 "metadata": {
  "kernelspec": {
   "display_name": "scanpy",
   "language": "python",
   "name": "scanpy"
  },
  "language_info": {
   "codemirror_mode": {
    "name": "ipython",
    "version": 3
   },
   "file_extension": ".py",
   "mimetype": "text/x-python",
   "name": "python",
   "nbconvert_exporter": "python",
   "pygments_lexer": "ipython3",
   "version": "3.11.6"
  }
 },
 "nbformat": 4,
 "nbformat_minor": 5
}
